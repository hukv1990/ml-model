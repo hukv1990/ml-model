{
 "cells": [
  {
   "cell_type": "code",
   "execution_count": 1,
   "metadata": {},
   "outputs": [
    {
     "name": "stderr",
     "output_type": "stream",
     "text": [
      "Using TensorFlow backend.\n"
     ]
    }
   ],
   "source": [
    "from __future__ import absolute_import\n",
    "from __future__ import division\n",
    "from __future__ import print_function\n",
    "\n",
    "import os\n",
    "os.sys.path.append('D:\\ml\\datasets')\n",
    "\n",
    "import tensorflow as tf\n",
    "import keras\n",
    "import keras.backend as K\n",
    "\n",
    "from net import densenet\n",
    "from cifar10 import Cifar10\n",
    "import numpy as np\n",
    "import matplotlib.pyplot as plt\n",
    "sess = K.get_session()\n",
    "\n",
    "%matplotlib inline"
   ]
  },
  {
   "cell_type": "code",
   "execution_count": 2,
   "metadata": {},
   "outputs": [],
   "source": [
    "batch_size = 128\n",
    "num_per_epoches_for_train = 50000\n",
    "num_per_epoches_for_test = 10000\n",
    "data_path = r'D:\\ml\\datasets\\cifar-10-batches-bin'"
   ]
  },
  {
   "cell_type": "code",
   "execution_count": 3,
   "metadata": {},
   "outputs": [],
   "source": [
    "cifar10_train = Cifar10(batch_size=batch_size, \n",
    "                        training=True, \n",
    "                        image_augment=True, \n",
    "                        path=data_path)\n",
    "\n",
    "cifar10_test = Cifar10(batch_size=batch_size, \n",
    "                        training=False,\n",
    "                        path=data_path)"
   ]
  },
  {
   "cell_type": "code",
   "execution_count": 4,
   "metadata": {},
   "outputs": [],
   "source": [
    "train_images_tensor, train_labels_tensor = cifar10_train.get_tensor()\n",
    "test_images_tensor, test_labels_tensor = cifar10_test.get_tensor()"
   ]
  },
  {
   "cell_type": "code",
   "execution_count": 5,
   "metadata": {},
   "outputs": [],
   "source": [
    "def train_data_generator():\n",
    "    while True:\n",
    "        images, labels = sess.run([train_images_tensor, train_labels_tensor])\n",
    "        yield images, labels"
   ]
  },
  {
   "cell_type": "code",
   "execution_count": 6,
   "metadata": {},
   "outputs": [],
   "source": [
    "def test_data_generator():\n",
    "    while True:\n",
    "        images, labels = sess.run([test_images_tensor, test_labels_tensor])\n",
    "        yield images, labels"
   ]
  },
  {
   "cell_type": "code",
   "execution_count": 7,
   "metadata": {},
   "outputs": [],
   "source": [
    "model = densenet.DenseNetBC40((32,32,3), 10)"
   ]
  },
  {
   "cell_type": "code",
   "execution_count": null,
   "metadata": {},
   "outputs": [],
   "source": [
    "model = keras.models.load_model('densenet_cifar10_keras.h5')"
   ]
  },
  {
   "cell_type": "code",
   "execution_count": 8,
   "metadata": {},
   "outputs": [],
   "source": [
    "optimizer=keras.optimizers.Adam()\n",
    "model.compile(optimizer=optimizer, \n",
    "              loss=keras.losses.sparse_categorical_crossentropy,\n",
    "              metrics=['accuracy'])"
   ]
  },
  {
   "cell_type": "code",
   "execution_count": 9,
   "metadata": {},
   "outputs": [],
   "source": [
    "tensorboard = keras.callbacks.TensorBoard(batch_size=batch_size, write_graph=False)"
   ]
  },
  {
   "cell_type": "code",
   "execution_count": 10,
   "metadata": {
    "scrolled": true
   },
   "outputs": [
    {
     "name": "stdout",
     "output_type": "stream",
     "text": [
      "Epoch 1/50\n",
      "390/390 [==============================] - 55s 142ms/step - loss: 1.3866 - acc: 0.4966 - val_loss: 1.7097 - val_acc: 0.4700\n",
      "Epoch 2/50\n",
      "390/390 [==============================] - 51s 130ms/step - loss: 0.9570 - acc: 0.6603 - val_loss: 1.1636 - val_acc: 0.6032\n",
      "Epoch 3/50\n",
      "390/390 [==============================] - 51s 130ms/step - loss: 0.7872 - acc: 0.7213 - val_loss: 0.9386 - val_acc: 0.6770\n",
      "Epoch 4/50\n",
      "390/390 [==============================] - 51s 130ms/step - loss: 0.6735 - acc: 0.7643 - val_loss: 0.8943 - val_acc: 0.7074\n",
      "Epoch 5/50\n",
      "390/390 [==============================] - 51s 131ms/step - loss: 0.6063 - acc: 0.7891 - val_loss: 0.6031 - val_acc: 0.7928\n",
      "Epoch 6/50\n",
      "390/390 [==============================] - 51s 131ms/step - loss: 0.5439 - acc: 0.8108 - val_loss: 0.8607 - val_acc: 0.7140\n",
      "Epoch 7/50\n",
      "390/390 [==============================] - 51s 130ms/step - loss: 0.5008 - acc: 0.8258 - val_loss: 0.5868 - val_acc: 0.7966\n",
      "Epoch 8/50\n",
      "390/390 [==============================] - 51s 131ms/step - loss: 0.4621 - acc: 0.8389 - val_loss: 0.6680 - val_acc: 0.7745\n",
      "Epoch 9/50\n",
      "390/390 [==============================] - 51s 131ms/step - loss: 0.4363 - acc: 0.8485 - val_loss: 0.6424 - val_acc: 0.7891\n",
      "Epoch 10/50\n",
      "390/390 [==============================] - 51s 130ms/step - loss: 0.4061 - acc: 0.8592 - val_loss: 0.5864 - val_acc: 0.8047\n",
      "Epoch 11/50\n",
      "390/390 [==============================] - 51s 130ms/step - loss: 0.3808 - acc: 0.8686 - val_loss: 0.8341 - val_acc: 0.7416\n",
      "Epoch 12/50\n",
      "390/390 [==============================] - 51s 130ms/step - loss: 0.3615 - acc: 0.8742 - val_loss: 0.5482 - val_acc: 0.8232\n",
      "Epoch 13/50\n",
      "390/390 [==============================] - 51s 130ms/step - loss: 0.3450 - acc: 0.8789 - val_loss: 0.5470 - val_acc: 0.8198\n",
      "Epoch 14/50\n",
      "390/390 [==============================] - 51s 130ms/step - loss: 0.3282 - acc: 0.8846 - val_loss: 0.4966 - val_acc: 0.8366\n",
      "Epoch 15/50\n",
      "390/390 [==============================] - 51s 130ms/step - loss: 0.3113 - acc: 0.8901 - val_loss: 0.4617 - val_acc: 0.8471\n",
      "Epoch 16/50\n",
      "390/390 [==============================] - 51s 130ms/step - loss: 0.2947 - acc: 0.8975 - val_loss: 0.5310 - val_acc: 0.8297\n",
      "Epoch 17/50\n",
      "390/390 [==============================] - 52s 132ms/step - loss: 0.2825 - acc: 0.9014 - val_loss: 0.4699 - val_acc: 0.8500\n",
      "Epoch 18/50\n",
      "390/390 [==============================] - 52s 133ms/step - loss: 0.2769 - acc: 0.9024 - val_loss: 0.4181 - val_acc: 0.8636\n",
      "Epoch 19/50\n",
      "390/390 [==============================] - 52s 132ms/step - loss: 0.2611 - acc: 0.9080 - val_loss: 0.4053 - val_acc: 0.8691\n",
      "Epoch 20/50\n",
      "390/390 [==============================] - 52s 132ms/step - loss: 0.2540 - acc: 0.9104 - val_loss: 0.5242 - val_acc: 0.8291\n",
      "Epoch 21/50\n",
      "390/390 [==============================] - 52s 132ms/step - loss: 0.2466 - acc: 0.9137 - val_loss: 0.5188 - val_acc: 0.8392\n",
      "Epoch 22/50\n",
      "390/390 [==============================] - 52s 132ms/step - loss: 0.2346 - acc: 0.9176 - val_loss: 0.4781 - val_acc: 0.8540\n",
      "Epoch 23/50\n",
      "390/390 [==============================] - 52s 132ms/step - loss: 0.2302 - acc: 0.9184 - val_loss: 0.3858 - val_acc: 0.8719\n",
      "Epoch 24/50\n",
      "390/390 [==============================] - 51s 132ms/step - loss: 0.2183 - acc: 0.9229 - val_loss: 0.4045 - val_acc: 0.8719\n",
      "Epoch 25/50\n",
      "390/390 [==============================] - 51s 132ms/step - loss: 0.2113 - acc: 0.9254 - val_loss: 0.3903 - val_acc: 0.8740\n",
      "Epoch 26/50\n",
      "390/390 [==============================] - 52s 133ms/step - loss: 0.2092 - acc: 0.9262 - val_loss: 0.4214 - val_acc: 0.8696\n",
      "Epoch 27/50\n",
      "390/390 [==============================] - 52s 132ms/step - loss: 0.1975 - acc: 0.9300 - val_loss: 0.4655 - val_acc: 0.8579\n",
      "Epoch 28/50\n",
      "390/390 [==============================] - 51s 132ms/step - loss: 0.1946 - acc: 0.9316 - val_loss: 0.4135 - val_acc: 0.8733\n",
      "Epoch 29/50\n",
      "390/390 [==============================] - 51s 132ms/step - loss: 0.1945 - acc: 0.9304 - val_loss: 0.4207 - val_acc: 0.8733\n",
      "Epoch 30/50\n",
      "390/390 [==============================] - 51s 132ms/step - loss: 0.1838 - acc: 0.9341 - val_loss: 0.4149 - val_acc: 0.8731\n",
      "Epoch 31/50\n",
      "390/390 [==============================] - 51s 132ms/step - loss: 0.1760 - acc: 0.9376 - val_loss: 0.3621 - val_acc: 0.8868\n",
      "Epoch 32/50\n",
      "390/390 [==============================] - 51s 132ms/step - loss: 0.1706 - acc: 0.9397 - val_loss: 0.4963 - val_acc: 0.8599\n",
      "Epoch 33/50\n",
      "390/390 [==============================] - 51s 132ms/step - loss: 0.1717 - acc: 0.9391 - val_loss: 0.4096 - val_acc: 0.8787\n",
      "Epoch 34/50\n",
      "390/390 [==============================] - 51s 132ms/step - loss: 0.1575 - acc: 0.9435 - val_loss: 0.5380 - val_acc: 0.8524\n",
      "Epoch 35/50\n",
      "390/390 [==============================] - 51s 132ms/step - loss: 0.1593 - acc: 0.9438 - val_loss: 0.4100 - val_acc: 0.8785\n",
      "Epoch 36/50\n",
      "390/390 [==============================] - 51s 132ms/step - loss: 0.1524 - acc: 0.9459 - val_loss: 0.4811 - val_acc: 0.8727\n",
      "Epoch 37/50\n",
      "390/390 [==============================] - 51s 132ms/step - loss: 0.1576 - acc: 0.9425 - val_loss: 0.5142 - val_acc: 0.8609\n",
      "Epoch 38/50\n",
      "390/390 [==============================] - 51s 132ms/step - loss: 0.1499 - acc: 0.9469 - val_loss: 0.4633 - val_acc: 0.8666\n",
      "Epoch 39/50\n",
      "390/390 [==============================] - 51s 132ms/step - loss: 0.1417 - acc: 0.9494 - val_loss: 0.4603 - val_acc: 0.8744\n",
      "Epoch 40/50\n",
      "390/390 [==============================] - 51s 132ms/step - loss: 0.1425 - acc: 0.9487 - val_loss: 0.5491 - val_acc: 0.8541\n",
      "Epoch 41/50\n",
      "390/390 [==============================] - 51s 132ms/step - loss: 0.1371 - acc: 0.9510 - val_loss: 0.4211 - val_acc: 0.8780\n",
      "Epoch 42/50\n",
      "390/390 [==============================] - 51s 132ms/step - loss: 0.1336 - acc: 0.9520 - val_loss: 0.4368 - val_acc: 0.8825\n",
      "Epoch 43/50\n",
      "390/390 [==============================] - 51s 132ms/step - loss: 0.1381 - acc: 0.9512 - val_loss: 0.4011 - val_acc: 0.8854\n",
      "Epoch 44/50\n",
      "390/390 [==============================] - 52s 132ms/step - loss: 0.1325 - acc: 0.9519 - val_loss: 0.4374 - val_acc: 0.8770\n",
      "Epoch 45/50\n",
      "390/390 [==============================] - 51s 131ms/step - loss: 0.1252 - acc: 0.9561 - val_loss: 0.4855 - val_acc: 0.8665\n",
      "Epoch 46/50\n",
      "390/390 [==============================] - 51s 132ms/step - loss: 0.1255 - acc: 0.9556 - val_loss: 0.3742 - val_acc: 0.8915\n",
      "Epoch 47/50\n",
      "390/390 [==============================] - 51s 132ms/step - loss: 0.1210 - acc: 0.9560 - val_loss: 0.5877 - val_acc: 0.8467\n",
      "Epoch 48/50\n",
      "390/390 [==============================] - 51s 131ms/step - loss: 0.1180 - acc: 0.9585 - val_loss: 0.4037 - val_acc: 0.8861\n",
      "Epoch 49/50\n",
      "390/390 [==============================] - 51s 132ms/step - loss: 0.1174 - acc: 0.9588 - val_loss: 0.4280 - val_acc: 0.8839\n",
      "Epoch 50/50\n",
      "390/390 [==============================] - 51s 132ms/step - loss: 0.1159 - acc: 0.9583 - val_loss: 0.4397 - val_acc: 0.8805\n"
     ]
    }
   ],
   "source": [
    "history = model.fit_generator(generator=train_data_generator(), \n",
    "                    steps_per_epoch=num_per_epoches_for_train // batch_size, \n",
    "                    epochs = 50, \n",
    "                    validation_data=test_data_generator(), \n",
    "                    validation_steps=num_per_epoches_for_test // batch_size,callbacks=[tensorboard])"
   ]
  },
  {
   "cell_type": "code",
   "execution_count": 11,
   "metadata": {},
   "outputs": [
    {
     "data": {
      "image/png": "[encoded data removed]",
      "text/plain": [
       "<matplotlib.figure.Figure at 0x25fa41ecba8>"
      ]
     },
     "metadata": {},
     "output_type": "display_data"
    }
   ],
   "source": [
    "fig, ax = plt.subplots(2,1)\n",
    "ax[0].plot(history.history['loss'], color='b', label=\"Training loss\")\n",
    "ax[0].plot(history.history['val_loss'], color='r', label=\"validation loss\",axes =ax[0])\n",
    "legend = ax[0].legend(loc='best', shadow=True)\n",
    "\n",
    "ax[1].plot(history.history['acc'], color='b', label=\"Training accuracy\")\n",
    "ax[1].plot(history.history['val_acc'], color='r',label=\"Validation accuracy\")\n",
    "legend = ax[1].legend(loc='best', shadow=True)"
   ]
  },
  {
   "cell_type": "code",
   "execution_count": 16,
   "metadata": {
    "scrolled": false
   },
   "outputs": [
    {
     "name": "stdout",
     "output_type": "stream",
     "text": [
      "Epoch 1/10\n",
      "390/390 [==============================] - 58s 147ms/step - loss: 0.0316 - acc: 0.9900 - val_loss: 0.3244 - val_acc: 0.9169\n",
      "Epoch 2/10\n",
      "390/390 [==============================] - 55s 141ms/step - loss: 0.0306 - acc: 0.9903 - val_loss: 0.3238 - val_acc: 0.9171\n",
      "Epoch 3/10\n",
      "390/390 [==============================] - 55s 141ms/step - loss: 0.0310 - acc: 0.9894 - val_loss: 0.3235 - val_acc: 0.9172\n",
      "Epoch 4/10\n",
      "390/390 [==============================] - 55s 141ms/step - loss: 0.0315 - acc: 0.9897 - val_loss: 0.3231 - val_acc: 0.9171\n",
      "Epoch 5/10\n",
      "390/390 [==============================] - 55s 142ms/step - loss: 0.0306 - acc: 0.9898 - val_loss: 0.3241 - val_acc: 0.9170\n",
      "Epoch 6/10\n",
      "390/390 [==============================] - 55s 141ms/step - loss: 0.0303 - acc: 0.9903 - val_loss: 0.3239 - val_acc: 0.9171\n",
      "Epoch 7/10\n",
      "390/390 [==============================] - 55s 141ms/step - loss: 0.0316 - acc: 0.9893 - val_loss: 0.3241 - val_acc: 0.9169\n",
      "Epoch 8/10\n",
      "390/390 [==============================] - 55s 141ms/step - loss: 0.0311 - acc: 0.9901 - val_loss: 0.3243 - val_acc: 0.9170\n",
      "Epoch 9/10\n",
      "390/390 [==============================] - 55s 141ms/step - loss: 0.0293 - acc: 0.9906 - val_loss: 0.3234 - val_acc: 0.9172\n",
      "Epoch 10/10\n",
      "390/390 [==============================] - 55s 141ms/step - loss: 0.0310 - acc: 0.9902 - val_loss: 0.3225 - val_acc: 0.9177\n"
     ]
    }
   ],
   "source": [
    "optimizer=keras.optimizers.Adam(lr=1e-6)\n",
    "model.compile(optimizer=optimizer, \n",
    "              loss=keras.losses.sparse_categorical_crossentropy,\n",
    "              metrics=['accuracy'])\n",
    "history = model.fit_generator(generator=train_data_generator(), \n",
    "                    steps_per_epoch=num_per_epoches_for_train // batch_size, \n",
    "                    epochs = 10, \n",
    "                    validation_data=test_data_generator(), \n",
    "                    validation_steps=num_per_epoches_for_test // batch_size,callbacks=[tensorboard])"
   ]
  },
  {
   "cell_type": "code",
   "execution_count": 15,
   "metadata": {},
   "outputs": [],
   "source": [
    "model.save(r'densenet_cifar10_keras_acc_91.68%.h5')"
   ]
  },
  {
   "cell_type": "code",
   "execution_count": null,
   "metadata": {},
   "outputs": [],
   "source": [
    "cifar10_predict = Cifar10(batch_size=1, training=False, path=data_path)\n",
    "images_tensor, labels_tensor = cifar10_predict.get_tensor()\n"
   ]
  },
  {
   "cell_type": "code",
   "execution_count": null,
   "metadata": {},
   "outputs": [],
   "source": [
    "images, labels = sess.run([images_tensor, labels_tensor])\n",
    "predict = model.predict(images)\n",
    "predict = np.argmax(predict)\n",
    "print('predict = ', predict)\n",
    "plt.imshow(images[0])"
   ]
  },
  {
   "cell_type": "code",
   "execution_count": null,
   "metadata": {},
   "outputs": [],
   "source": []
  },
  {
   "cell_type": "code",
   "execution_count": null,
   "metadata": {},
   "outputs": [],
   "source": [
    "from keras.utils.vis_utils import plot_model"
   ]
  },
  {
   "cell_type": "code",
   "execution_count": null,
   "metadata": {},
   "outputs": [],
   "source": [
    "plot_model(model, to_file='a.jpg', show_shapes=True)"
   ]
  },
  {
   "cell_type": "code",
   "execution_count": null,
   "metadata": {},
   "outputs": [],
   "source": []
  }
 ],
 "metadata": {
  "kernelspec": {
   "display_name": "Python 3",
   "language": "python",
   "name": "python3"
  },
  "language_info": {
   "codemirror_mode": {
    "name": "ipython",
    "version": 3
   },
   "file_extension": ".py",
   "mimetype": "text/x-python",
   "name": "python",
   "nbconvert_exporter": "python",
   "pygments_lexer": "ipython3",
   "version": "3.6.4"
  }
 },
 "nbformat": 4,
 "nbformat_minor": 2
}
