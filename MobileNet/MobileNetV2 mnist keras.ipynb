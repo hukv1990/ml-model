{
 "cells": [
  {
   "cell_type": "code",
   "execution_count": 1,
   "metadata": {},
   "outputs": [
    {
     "name": "stderr",
     "output_type": "stream",
     "text": [
      "Using TensorFlow backend.\n"
     ]
    }
   ],
   "source": [
    "import keras\n",
    "from keras.utils.vis_utils import plot_model\n",
    "from net.mobilenet_v2 import MobileNetV2\n",
    "from keras.datasets import mnist\n",
    "import os\n",
    "import keras.backend.tensorflow_backend as KTF\n",
    "import tensorflow as tf\n",
    "from keras.preprocessing.image import ImageDataGenerator\n",
    "\n",
    "#进行配置，使用30%的GPU\n",
    "# config = tf.ConfigProto()\n",
    "# config.gpu_options.per_process_gpu_memory_fraction = 0.6\n",
    "# session = tf.Session(config=config)\n",
    "\n",
    "# # 设置session\n",
    "# KTF.set_session(session)"
   ]
  },
  {
   "cell_type": "code",
   "execution_count": 2,
   "metadata": {},
   "outputs": [],
   "source": [
    "model = MobileNetV2((28,28,1), classes=10).build_net_mnist()"
   ]
  },
  {
   "cell_type": "code",
   "execution_count": 3,
   "metadata": {
    "scrolled": false
   },
   "outputs": [
    {
     "name": "stdout",
     "output_type": "stream",
     "text": [
      "_________________________________________________________________\n",
      "Layer (type)                 Output Shape              Param #   \n",
      "=================================================================\n",
      "input_1 (InputLayer)         (None, 28, 28, 1)         0         \n",
      "_________________________________________________________________\n",
      "conv1 (Conv2D)               (None, 14, 14, 32)        192       \n",
      "_________________________________________________________________\n",
      "conv1_bn (BatchNormalization (None, 14, 14, 32)        128       \n",
      "_________________________________________________________________\n",
      "conv1_relu (Activation)      (None, 14, 14, 32)        0         \n",
      "_________________________________________________________________\n",
      "expanded_conv_depthwise (Dep (None, 14, 14, 32)        320       \n",
      "_________________________________________________________________\n",
      "expanded_conv_depthwise_BN ( (None, 14, 14, 32)        128       \n",
      "_________________________________________________________________\n",
      "expanded_conv_depthwise_relu (None, 14, 14, 32)        0         \n",
      "_________________________________________________________________\n",
      "expanded_conv_project (Conv2 (None, 14, 14, 16)        512       \n",
      "_________________________________________________________________\n",
      "expanded_conv_project_BN (Ba (None, 14, 14, 16)        64        \n",
      "_________________________________________________________________\n",
      "block3_expand (Conv2D)       (None, 14, 14, 96)        1536      \n",
      "_________________________________________________________________\n",
      "block3_expand_BN (BatchNorma (None, 14, 14, 96)        384       \n",
      "_________________________________________________________________\n",
      "block3_expand_relu (Activati (None, 14, 14, 96)        0         \n",
      "_________________________________________________________________\n",
      "block3_depthwise (DepthwiseC (None, 7, 7, 96)          960       \n",
      "_________________________________________________________________\n",
      "block3_depthwise_BN (BatchNo (None, 7, 7, 96)          384       \n",
      "_________________________________________________________________\n",
      "block3_depthwise_relu (Activ (None, 7, 7, 96)          0         \n",
      "_________________________________________________________________\n",
      "block3_project (Conv2D)      (None, 7, 7, 32)          3072      \n",
      "_________________________________________________________________\n",
      "block3_project_BN (BatchNorm (None, 7, 7, 32)          128       \n",
      "_________________________________________________________________\n",
      "block4_expand (Conv2D)       (None, 7, 7, 192)         6144      \n",
      "_________________________________________________________________\n",
      "block4_expand_BN (BatchNorma (None, 7, 7, 192)         768       \n",
      "_________________________________________________________________\n",
      "block4_expand_relu (Activati (None, 7, 7, 192)         0         \n",
      "_________________________________________________________________\n",
      "block4_depthwise (DepthwiseC (None, 7, 7, 192)         1920      \n",
      "_________________________________________________________________\n",
      "block4_depthwise_BN (BatchNo (None, 7, 7, 192)         768       \n",
      "_________________________________________________________________\n",
      "block4_depthwise_relu (Activ (None, 7, 7, 192)         0         \n",
      "_________________________________________________________________\n",
      "block4_project (Conv2D)      (None, 7, 7, 32)          6144      \n",
      "_________________________________________________________________\n",
      "block4_project_BN (BatchNorm (None, 7, 7, 32)          128       \n",
      "_________________________________________________________________\n",
      "block5_expand (Conv2D)       (None, 7, 7, 192)         6144      \n",
      "_________________________________________________________________\n",
      "block5_expand_BN (BatchNorma (None, 7, 7, 192)         768       \n",
      "_________________________________________________________________\n",
      "block5_expand_relu (Activati (None, 7, 7, 192)         0         \n",
      "_________________________________________________________________\n",
      "block5_depthwise (DepthwiseC (None, 7, 7, 192)         1920      \n",
      "_________________________________________________________________\n",
      "block5_depthwise_BN (BatchNo (None, 7, 7, 192)         768       \n",
      "_________________________________________________________________\n",
      "block5_depthwise_relu (Activ (None, 7, 7, 192)         0         \n",
      "_________________________________________________________________\n",
      "block5_project (Conv2D)      (None, 7, 7, 32)          6144      \n",
      "_________________________________________________________________\n",
      "block5_project_BN (BatchNorm (None, 7, 7, 32)          128       \n",
      "_________________________________________________________________\n",
      "block6_expand (Conv2D)       (None, 7, 7, 192)         6144      \n",
      "_________________________________________________________________\n",
      "block6_expand_BN (BatchNorma (None, 7, 7, 192)         768       \n",
      "_________________________________________________________________\n",
      "block6_expand_relu (Activati (None, 7, 7, 192)         0         \n",
      "_________________________________________________________________\n",
      "block6_depthwise (DepthwiseC (None, 4, 4, 192)         1920      \n",
      "_________________________________________________________________\n",
      "block6_depthwise_BN (BatchNo (None, 4, 4, 192)         768       \n",
      "_________________________________________________________________\n",
      "block6_depthwise_relu (Activ (None, 4, 4, 192)         0         \n",
      "_________________________________________________________________\n",
      "block6_project (Conv2D)      (None, 4, 4, 64)          12288     \n",
      "_________________________________________________________________\n",
      "block6_project_BN (BatchNorm (None, 4, 4, 64)          256       \n",
      "_________________________________________________________________\n",
      "block7_expand (Conv2D)       (None, 4, 4, 384)         24576     \n",
      "_________________________________________________________________\n",
      "block7_expand_BN (BatchNorma (None, 4, 4, 384)         1536      \n",
      "_________________________________________________________________\n",
      "block7_expand_relu (Activati (None, 4, 4, 384)         0         \n",
      "_________________________________________________________________\n",
      "block7_depthwise (DepthwiseC (None, 4, 4, 384)         3840      \n",
      "_________________________________________________________________\n",
      "block7_depthwise_BN (BatchNo (None, 4, 4, 384)         1536      \n",
      "_________________________________________________________________\n",
      "block7_depthwise_relu (Activ (None, 4, 4, 384)         0         \n",
      "_________________________________________________________________\n",
      "block7_project (Conv2D)      (None, 4, 4, 64)          24576     \n",
      "_________________________________________________________________\n",
      "block7_project_BN (BatchNorm (None, 4, 4, 64)          256       \n",
      "_________________________________________________________________\n",
      "block8_expand (Conv2D)       (None, 4, 4, 384)         24576     \n",
      "_________________________________________________________________\n",
      "block8_expand_BN (BatchNorma (None, 4, 4, 384)         1536      \n",
      "_________________________________________________________________\n",
      "block8_expand_relu (Activati (None, 4, 4, 384)         0         \n",
      "_________________________________________________________________\n",
      "block8_depthwise (DepthwiseC (None, 4, 4, 384)         3840      \n",
      "_________________________________________________________________\n",
      "block8_depthwise_BN (BatchNo (None, 4, 4, 384)         1536      \n",
      "_________________________________________________________________\n",
      "block8_depthwise_relu (Activ (None, 4, 4, 384)         0         \n",
      "_________________________________________________________________\n",
      "block8_project (Conv2D)      (None, 4, 4, 64)          24576     \n",
      "_________________________________________________________________\n",
      "block8_project_BN (BatchNorm (None, 4, 4, 64)          256       \n",
      "_________________________________________________________________\n",
      "block9_expand (Conv2D)       (None, 4, 4, 384)         24576     \n",
      "_________________________________________________________________\n",
      "block9_expand_BN (BatchNorma (None, 4, 4, 384)         1536      \n",
      "_________________________________________________________________\n",
      "block9_expand_relu (Activati (None, 4, 4, 384)         0         \n",
      "_________________________________________________________________\n",
      "block9_depthwise (DepthwiseC (None, 4, 4, 384)         3840      \n",
      "_________________________________________________________________\n",
      "block9_depthwise_BN (BatchNo (None, 4, 4, 384)         1536      \n",
      "_________________________________________________________________\n",
      "block9_depthwise_relu (Activ (None, 4, 4, 384)         0         \n",
      "_________________________________________________________________\n",
      "block9_project (Conv2D)      (None, 4, 4, 64)          24576     \n",
      "_________________________________________________________________\n",
      "block9_project_BN (BatchNorm (None, 4, 4, 64)          256       \n",
      "_________________________________________________________________\n",
      "block16_expand (Conv2D)      (None, 4, 4, 384)         24576     \n",
      "_________________________________________________________________\n",
      "block16_expand_BN (BatchNorm (None, 4, 4, 384)         1536      \n",
      "_________________________________________________________________\n",
      "block16_expand_relu (Activat (None, 4, 4, 384)         0         \n",
      "_________________________________________________________________\n",
      "block16_depthwise (Depthwise (None, 4, 4, 384)         3840      \n",
      "_________________________________________________________________\n",
      "block16_depthwise_BN (BatchN (None, 4, 4, 384)         1536      \n",
      "_________________________________________________________________\n",
      "block16_depthwise_relu (Acti (None, 4, 4, 384)         0         \n",
      "_________________________________________________________________\n",
      "block16_project (Conv2D)     (None, 4, 4, 96)          36864     \n",
      "_________________________________________________________________\n",
      "block16_project_BN (BatchNor (None, 4, 4, 96)          384       \n",
      "_________________________________________________________________\n",
      "Conv_1 (Conv2D)              (None, 4, 4, 1280)        122880    \n",
      "_________________________________________________________________\n",
      "Conv_1_bn (BatchNormalizatio (None, 4, 4, 1280)        5120      \n",
      "_________________________________________________________________\n",
      "out_relu (Activation)        (None, 4, 4, 1280)        0         \n",
      "_________________________________________________________________\n",
      "global_average_pooling2d_1 ( (None, 1280)              0         \n",
      "_________________________________________________________________\n",
      "Logits (Dense)               (None, 10)                12810     \n",
      "=================================================================\n",
      "Total params: 440,202\n",
      "Trainable params: 427,754\n",
      "Non-trainable params: 12,448\n",
      "_________________________________________________________________\n"
     ]
    }
   ],
   "source": [
    "model.summary()\n",
    "# plot_model(model, to_file='model1.png',show_shapes=True)"
   ]
  },
  {
   "cell_type": "code",
   "execution_count": 4,
   "metadata": {},
   "outputs": [
    {
     "data": {
      "text/plain": [
       "[(60000, 28, 28, 1), (60000, 10), (10000, 28, 28, 1), (10000, 10)]"
      ]
     },
     "execution_count": 4,
     "metadata": {},
     "output_type": "execute_result"
    }
   ],
   "source": [
    "path = r'D:\\ml\\datasets\\mnist'\n",
    "(train_images, train_labels), (dev_images, dev_labels) = mnist.load_data(os.path.join(path, 'mnist.npz'))\n",
    "train_images = train_images.reshape(-1, 28,28,1).astype('float32') / 255.\n",
    "dev_images = dev_images.reshape(-1, 28,28,1).astype('float32') / 255.\n",
    "train_labels = keras.utils.np_utils.to_categorical(train_labels, 10)\n",
    "dev_labels = keras.utils.np_utils.to_categorical(dev_labels, 10)\n",
    "list(map(lambda x:x.shape, [train_images, train_labels, dev_images, dev_labels]))"
   ]
  },
  {
   "cell_type": "code",
   "execution_count": 5,
   "metadata": {},
   "outputs": [],
   "source": [
    "optimizer = keras.optimizers.Adam()\n",
    "model.compile(optimizer=optimizer, \n",
    "              loss=keras.losses.categorical_crossentropy, \n",
    "              metrics=['accuracy'])"
   ]
  },
  {
   "cell_type": "code",
   "execution_count": 6,
   "metadata": {
    "scrolled": true
   },
   "outputs": [
    {
     "name": "stdout",
     "output_type": "stream",
     "text": [
      "Train on 60000 samples, validate on 10000 samples\n",
      "Epoch 1/1\n",
      "60000/60000 [==============================] - 35s 576us/step - loss: 0.2918 - acc: 0.9027 - val_loss: 0.1818 - val_acc: 0.9517\n"
     ]
    },
    {
     "data": {
      "text/plain": [
       "<keras.callbacks.History at 0x2ba9f494a58>"
      ]
     },
     "execution_count": 6,
     "metadata": {},
     "output_type": "execute_result"
    }
   ],
   "source": [
    "model.fit(train_images, train_labels, batch_size=128, epochs=1, validation_data=(dev_images, dev_labels))"
   ]
  },
  {
   "cell_type": "code",
   "execution_count": 7,
   "metadata": {},
   "outputs": [],
   "source": [
    "datagen = ImageDataGenerator(width_shift_range=0.1, height_shift_range=0.1, rotation_range=10, zoom_range = 0.1)"
   ]
  },
  {
   "cell_type": "code",
   "execution_count": 9,
   "metadata": {},
   "outputs": [
    {
     "name": "stdout",
     "output_type": "stream",
     "text": [
      "Epoch 1/10\n",
      "469/468 [==============================] - 28s 61ms/step - loss: 0.0381 - acc: 0.9882 - val_loss: 0.0456 - val_acc: 0.9882\n",
      "Epoch 2/10\n",
      "469/468 [==============================] - 28s 60ms/step - loss: 0.0378 - acc: 0.9881 - val_loss: 0.0398 - val_acc: 0.9885\n",
      "Epoch 3/10\n",
      "469/468 [==============================] - 28s 61ms/step - loss: 0.0347 - acc: 0.9893 - val_loss: 0.0951 - val_acc: 0.9752\n",
      "Epoch 4/10\n",
      "469/468 [==============================] - 29s 61ms/step - loss: 0.0350 - acc: 0.9890 - val_loss: 0.0487 - val_acc: 0.9876\n",
      "Epoch 5/10\n",
      "469/468 [==============================] - 29s 61ms/step - loss: 0.0339 - acc: 0.9893 - val_loss: 0.0348 - val_acc: 0.9894\n",
      "Epoch 6/10\n",
      "469/468 [==============================] - 29s 61ms/step - loss: 0.0326 - acc: 0.9907 - val_loss: 0.0365 - val_acc: 0.9896\n",
      "Epoch 7/10\n",
      "469/468 [==============================] - 29s 61ms/step - loss: 0.0331 - acc: 0.9897 - val_loss: 0.0498 - val_acc: 0.9858\n",
      "Epoch 8/10\n",
      "469/468 [==============================] - 29s 62ms/step - loss: 0.0297 - acc: 0.9908 - val_loss: 0.0350 - val_acc: 0.9899\n",
      "Epoch 9/10\n",
      "469/468 [==============================] - 29s 62ms/step - loss: 0.0310 - acc: 0.9906 - val_loss: 0.0317 - val_acc: 0.9911\n",
      "Epoch 10/10\n",
      "469/468 [==============================] - 29s 62ms/step - loss: 0.0291 - acc: 0.9911 - val_loss: 0.0496 - val_acc: 0.9858\n"
     ]
    },
    {
     "data": {
      "text/plain": [
       "<keras.callbacks.History at 0x2baa75ac080>"
      ]
     },
     "execution_count": 9,
     "metadata": {},
     "output_type": "execute_result"
    }
   ],
   "source": [
    "batch_size = 128\n",
    "model.fit_generator(datagen.flow(train_images, train_labels, batch_size=batch_size),\n",
    "                    epochs=10, \n",
    "                    steps_per_epoch=train_images.shape[0] / batch_size,\n",
    "                    validation_data=(dev_images, dev_labels))"
   ]
  },
  {
   "cell_type": "code",
   "execution_count": null,
   "metadata": {},
   "outputs": [],
   "source": []
  }
 ],
 "metadata": {
  "kernelspec": {
   "display_name": "Python 3",
   "language": "python",
   "name": "python3"
  },
  "language_info": {
   "codemirror_mode": {
    "name": "ipython",
    "version": 3
   },
   "file_extension": ".py",
   "mimetype": "text/x-python",
   "name": "python",
   "nbconvert_exporter": "python",
   "pygments_lexer": "ipython3",
   "version": "3.6.4"
  }
 },
 "nbformat": 4,
 "nbformat_minor": 2
}
